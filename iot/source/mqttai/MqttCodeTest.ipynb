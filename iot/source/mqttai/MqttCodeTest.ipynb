{
 "cells": [
  {
   "cell_type": "code",
   "execution_count": 1,
   "metadata": {},
   "outputs": [],
   "source": [
    "import requests\n",
    "import numpy as np\n",
    "import json\n",
    "import os\n",
    "import tensorflow as tf"
   ]
  },
  {
   "cell_type": "code",
   "execution_count": 2,
   "metadata": {},
   "outputs": [],
   "source": [
    "def scale_data(x):\n",
    "    nom = (x-min_x)*2\n",
    "    denom = max_x - min_x\n",
    "    denom[denom==0] = 1\n",
    "    return -1 + nom/denom\n",
    "\n",
    "def get_data():\n",
    "    resp = requests.get('http://vm05.htl-leonding.ac.at/data/all?max={}'.format(time_steps))\n",
    "    if resp.status_code != 200:\n",
    "        raise ApiError('GET /data/all?max={} {}'.format(time_steps, resp.status_code))\n",
    "    x = np.empty([time_steps, 5])\n",
    "    for i, item in enumerate(resp.json()['object']):\n",
    "        if not all([sensor in item for sensor in sensors]):\n",
    "            return np.array([])\n",
    "        x[i] = np.array([item[sensor] for sensor in sensors])\n",
    "    return x[np.newaxis, :]"
   ]
  },
  {
   "cell_type": "code",
   "execution_count": 3,
   "metadata": {},
   "outputs": [],
   "source": [
    "sensors = ['co2Indoor', 'humidityIndoor', 'humidityOutdoor', 'temperatureIndoor', 'temperatureOutdoor']\n",
    "\n",
    "with open(os.path.join('../../finalModels/smallGRU', 'config.json')) as json_data_file:\n",
    "    data = json.load(json_data_file)\n",
    "batch_size = int(data['batch_size'])\n",
    "time_steps = int(data['time_steps'])\n",
    "min_x = np.array(data['min_x'])\n",
    "max_x = np.array(data['max_x'])"
   ]
  },
  {
   "cell_type": "code",
   "execution_count": 4,
   "metadata": {},
   "outputs": [
    {
     "data": {
      "text/plain": [
       "(1, 50, 5)"
      ]
     },
     "execution_count": 4,
     "metadata": {},
     "output_type": "execute_result"
    }
   ],
   "source": [
    "x = get_data()\n",
    "x.shape"
   ]
  },
  {
   "cell_type": "code",
   "execution_count": 5,
   "metadata": {},
   "outputs": [
    {
     "data": {
      "text/plain": [
       "(1, 50, 5)"
      ]
     },
     "execution_count": 5,
     "metadata": {},
     "output_type": "execute_result"
    }
   ],
   "source": [
    "x_scaled = scale_data(x)\n",
    "x_scaled.shape"
   ]
  },
  {
   "cell_type": "code",
   "execution_count": 9,
   "metadata": {},
   "outputs": [
    {
     "data": {
      "text/plain": [
       "(4, 50, 5)"
      ]
     },
     "execution_count": 9,
     "metadata": {},
     "output_type": "execute_result"
    }
   ],
   "source": [
    "x_scaled = np.vstack([x_scaled, x_scaled, x_scaled, x_scaled])\n",
    "x_scaled.shape"
   ]
  },
  {
   "cell_type": "code",
   "execution_count": 10,
   "metadata": {},
   "outputs": [
    {
     "name": "stdout",
     "output_type": "stream",
     "text": [
      "WARNING:tensorflow:Error in loading the saved optimizer state. As a result, your model is starting with a freshly initialized optimizer.\n"
     ]
    }
   ],
   "source": [
    "model = tf.keras.models.load_model(os.path.join('../../finalModels/smallGRU', 'model.h5'))"
   ]
  },
  {
   "cell_type": "code",
   "execution_count": 13,
   "metadata": {},
   "outputs": [
    {
     "data": {
      "text/plain": [
       "array([0, 0, 0, 0], dtype=int32)"
      ]
     },
     "execution_count": 13,
     "metadata": {},
     "output_type": "execute_result"
    }
   ],
   "source": [
    "preds = (model.predict(x_scaled, batch_size=batch_size) > 0.5).astype(\"int32\").flatten()\n",
    "preds"
   ]
  },
  {
   "cell_type": "code",
   "execution_count": null,
   "metadata": {},
   "outputs": [],
   "source": []
  }
 ],
 "metadata": {
  "kernelspec": {
   "display_name": "Python 3",
   "language": "python",
   "name": "python3"
  },
  "language_info": {
   "codemirror_mode": {
    "name": "ipython",
    "version": 3
   },
   "file_extension": ".py",
   "mimetype": "text/x-python",
   "name": "python",
   "nbconvert_exporter": "python",
   "pygments_lexer": "ipython3",
   "version": "3.6.9"
  }
 },
 "nbformat": 4,
 "nbformat_minor": 4
}
